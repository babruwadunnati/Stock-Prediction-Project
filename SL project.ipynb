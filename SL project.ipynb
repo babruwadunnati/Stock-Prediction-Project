{
 "cells": [
  {
   "cell_type": "code",
   "execution_count": 1,
   "metadata": {},
   "outputs": [
    {
     "name": "stderr",
     "output_type": "stream",
     "text": [
      "C:\\Users\\Vinayak\\Anaconda3\\lib\\site-packages\\sklearn\\cross_validation.py:41: DeprecationWarning: This module was deprecated in version 0.18 in favor of the model_selection module into which all the refactored classes and functions are moved. Also note that the interface of the new CV iterators are different from that of this module. This module will be removed in 0.20.\n",
      "  \"This module will be removed in 0.20.\", DeprecationWarning)\n"
     ]
    }
   ],
   "source": [
    "import quandl\n",
    "import pandas as pd\n",
    "import numpy as np\n",
    "import datetime\n",
    "\n",
    "from sklearn.linear_model import LinearRegression\n",
    "from sklearn import preprocessing, cross_validation, svm"
   ]
  },
  {
   "cell_type": "code",
   "execution_count": 2,
   "metadata": {},
   "outputs": [],
   "source": [
    "#df = quandl.get(\"WIKI/AMZN\")"
   ]
  },
  {
   "cell_type": "code",
   "execution_count": 2,
   "metadata": {},
   "outputs": [],
   "source": [
    "#df.to_csv(r'amazon.csv',index=True , header=True)\n",
    "df=pd.read_csv(\"amazon.csv\")"
   ]
  },
  {
   "cell_type": "code",
   "execution_count": 6,
   "metadata": {},
   "outputs": [
    {
     "data": {
      "text/plain": [
       "5248"
      ]
     },
     "execution_count": 6,
     "metadata": {},
     "output_type": "execute_result"
    }
   ],
   "source": [
    "df.shape[0]"
   ]
  },
  {
   "cell_type": "code",
   "execution_count": 5,
   "metadata": {},
   "outputs": [],
   "source": [
    "#df1 = quandl.get(\"WIKI/FB\")"
   ]
  },
  {
   "cell_type": "code",
   "execution_count": 7,
   "metadata": {},
   "outputs": [],
   "source": [
    "#df1.to_csv(r'FB.csv',index=True , header=True)\n",
    "df1=pd.read_csv(\"FB.CSV\")"
   ]
  },
  {
   "cell_type": "code",
   "execution_count": 10,
   "metadata": {},
   "outputs": [
    {
     "data": {
      "text/plain": [
       "1472"
      ]
     },
     "execution_count": 10,
     "metadata": {},
     "output_type": "execute_result"
    }
   ],
   "source": [
    "df1.shape[0]"
   ]
  },
  {
   "cell_type": "code",
   "execution_count": 8,
   "metadata": {},
   "outputs": [],
   "source": [
    "#df2 = quandl.get(\"WIKI/GOOGL\")"
   ]
  },
  {
   "cell_type": "code",
   "execution_count": 11,
   "metadata": {},
   "outputs": [],
   "source": [
    "#df2.to_csv(r'GOOGL.csv',index=True , header=True)\n",
    "df2=pd.read_csv(\"GOOGL.csv\")"
   ]
  },
  {
   "cell_type": "code",
   "execution_count": 15,
   "metadata": {},
   "outputs": [
    {
     "data": {
      "text/plain": [
       "3424"
      ]
     },
     "execution_count": 15,
     "metadata": {},
     "output_type": "execute_result"
    }
   ],
   "source": [
    "df2.shape[0]"
   ]
  },
  {
   "cell_type": "code",
   "execution_count": 11,
   "metadata": {},
   "outputs": [
    {
     "data": {
      "text/plain": [
       "RangeIndex(start=0, stop=5248, step=1)"
      ]
     },
     "execution_count": 11,
     "metadata": {},
     "output_type": "execute_result"
    }
   ],
   "source": [
    "df = df[['Adj. Close']]\n",
    "df.index"
   ]
  },
  {
   "cell_type": "code",
   "execution_count": 12,
   "metadata": {},
   "outputs": [],
   "source": [
    "img=df.plot(grid = True).axhline(y = 0, color = \"black\", lw = 2)"
   ]
  },
  {
   "cell_type": "code",
   "execution_count": 13,
   "metadata": {},
   "outputs": [],
   "source": [
    "forecast_out = int(30) # predicting 30 days into future\n",
    "df['Prediction'] = df[['Adj. Close']].shift(-forecast_out) #  label column with data shifted 30 units up"
   ]
  },
  {
   "cell_type": "code",
   "execution_count": 14,
   "metadata": {},
   "outputs": [
    {
     "data": {
      "text/html": [
       "<div>\n",
       "<style scoped>\n",
       "    .dataframe tbody tr th:only-of-type {\n",
       "        vertical-align: middle;\n",
       "    }\n",
       "\n",
       "    .dataframe tbody tr th {\n",
       "        vertical-align: top;\n",
       "    }\n",
       "\n",
       "    .dataframe thead th {\n",
       "        text-align: right;\n",
       "    }\n",
       "</style>\n",
       "<table border=\"1\" class=\"dataframe\">\n",
       "  <thead>\n",
       "    <tr style=\"text-align: right;\">\n",
       "      <th></th>\n",
       "      <th>Adj. Close</th>\n",
       "      <th>Prediction</th>\n",
       "    </tr>\n",
       "  </thead>\n",
       "  <tbody>\n",
       "    <tr>\n",
       "      <th>0</th>\n",
       "      <td>1.729167</td>\n",
       "      <td>1.541667</td>\n",
       "    </tr>\n",
       "    <tr>\n",
       "      <th>1</th>\n",
       "      <td>1.708333</td>\n",
       "      <td>1.515833</td>\n",
       "    </tr>\n",
       "    <tr>\n",
       "      <th>2</th>\n",
       "      <td>1.635833</td>\n",
       "      <td>1.588333</td>\n",
       "    </tr>\n",
       "    <tr>\n",
       "      <th>3</th>\n",
       "      <td>1.427500</td>\n",
       "      <td>1.911667</td>\n",
       "    </tr>\n",
       "    <tr>\n",
       "      <th>4</th>\n",
       "      <td>1.395833</td>\n",
       "      <td>2.000000</td>\n",
       "    </tr>\n",
       "  </tbody>\n",
       "</table>\n",
       "</div>"
      ],
      "text/plain": [
       "   Adj. Close  Prediction\n",
       "0    1.729167    1.541667\n",
       "1    1.708333    1.515833\n",
       "2    1.635833    1.588333\n",
       "3    1.427500    1.911667\n",
       "4    1.395833    2.000000"
      ]
     },
     "execution_count": 14,
     "metadata": {},
     "output_type": "execute_result"
    }
   ],
   "source": [
    "df.head()"
   ]
  },
  {
   "cell_type": "code",
   "execution_count": 15,
   "metadata": {},
   "outputs": [],
   "source": [
    "X = np.array(df.drop(['Prediction'], 1))\n",
    "X = preprocessing.scale(X)"
   ]
  },
  {
   "cell_type": "code",
   "execution_count": 16,
   "metadata": {},
   "outputs": [
    {
     "data": {
      "text/plain": [
       "array([[-0.70904095],\n",
       "       [-0.70911489],\n",
       "       [-0.7093722 ],\n",
       "       ...,\n",
       "       [ 4.59285269],\n",
       "       [ 4.80686902],\n",
       "       [ 4.59814099]])"
      ]
     },
     "execution_count": 16,
     "metadata": {},
     "output_type": "execute_result"
    }
   ],
   "source": [
    "X"
   ]
  },
  {
   "cell_type": "code",
   "execution_count": 17,
   "metadata": {},
   "outputs": [],
   "source": [
    "X_forecast = X[-forecast_out:] # set X_forecast equal to last 30\n",
    "X = X[:-forecast_out] # remove last 30 from X"
   ]
  },
  {
   "cell_type": "code",
   "execution_count": 18,
   "metadata": {},
   "outputs": [
    {
     "data": {
      "text/plain": [
       "array([[4.30519061],\n",
       "       [4.43487812],\n",
       "       [4.47288997],\n",
       "       [4.42650202],\n",
       "       [4.49627915],\n",
       "       [4.54799089],\n",
       "       [4.55452141],\n",
       "       [4.60861111],\n",
       "       [4.68651589],\n",
       "       [4.65113044],\n",
       "       [4.65279856],\n",
       "       [4.58536389],\n",
       "       [4.6094984 ],\n",
       "       [4.69240755],\n",
       "       [4.74220272],\n",
       "       [4.76832478],\n",
       "       [4.79267224],\n",
       "       [4.88860693],\n",
       "       [4.95781618],\n",
       "       [4.92157893],\n",
       "       [4.93158765],\n",
       "       [4.90078066],\n",
       "       [4.86301725],\n",
       "       [4.76807634],\n",
       "       [4.91565177],\n",
       "       [4.89914803],\n",
       "       [4.76513051],\n",
       "       [4.59285269],\n",
       "       [4.80686902],\n",
       "       [4.59814099]])"
      ]
     },
     "execution_count": 18,
     "metadata": {},
     "output_type": "execute_result"
    }
   ],
   "source": [
    "X_forecast"
   ]
  },
  {
   "cell_type": "code",
   "execution_count": 19,
   "metadata": {},
   "outputs": [],
   "source": [
    "y = np.array(df['Prediction'])\n",
    "y = y[:-forecast_out]"
   ]
  },
  {
   "cell_type": "code",
   "execution_count": 20,
   "metadata": {},
   "outputs": [
    {
     "data": {
      "text/plain": [
       "array([1.54166667e+00, 1.51583333e+00, 1.58833333e+00, ...,\n",
       "       1.49556000e+03, 1.55586000e+03, 1.49705000e+03])"
      ]
     },
     "execution_count": 20,
     "metadata": {},
     "output_type": "execute_result"
    }
   ],
   "source": [
    "y"
   ]
  },
  {
   "cell_type": "code",
   "execution_count": 21,
   "metadata": {},
   "outputs": [],
   "source": [
    "X_train, X_test, y_train, y_test = cross_validation.train_test_split(X, y, test_size = 0.2)\n"
   ]
  },
  {
   "cell_type": "code",
   "execution_count": 22,
   "metadata": {},
   "outputs": [
    {
     "name": "stdout",
     "output_type": "stream",
     "text": [
      "confidence:  0.989057341444692\n"
     ]
    }
   ],
   "source": [
    "clf = LinearRegression()\n",
    "clf.fit(X_train,y_train)\n",
    "# Testing\n",
    "confidence = clf.score(X_test, y_test)\n",
    "print(\"confidence: \", confidence)"
   ]
  },
  {
   "cell_type": "code",
   "execution_count": 23,
   "metadata": {},
   "outputs": [
    {
     "name": "stdout",
     "output_type": "stream",
     "text": [
      "[1499.47488662 1538.29583707 1549.67439151 1535.78851788 1556.67576161\n",
      " 1572.15527032 1574.11012934 1590.30146171 1613.62165499 1603.02929385\n",
      " 1603.52863284 1583.34258855 1590.56706756 1615.38527781 1630.29107789\n",
      " 1638.11051399 1645.3987384  1674.11604247 1694.83329846 1683.98595571\n",
      " 1686.98198965 1677.76015468 1666.45596987 1638.03614435 1682.21170866\n",
      " 1677.27143992 1637.15433295 1585.58430189 1649.64843194 1587.16731273]\n"
     ]
    }
   ],
   "source": [
    "forecast_prediction = clf.predict(X_forecast)\n",
    "print(forecast_prediction)"
   ]
  },
  {
   "cell_type": "code",
   "execution_count": 24,
   "metadata": {},
   "outputs": [],
   "source": [
    "df1 = df1[['Adj. Close']]\n",
    "forecast_out = int(30) # predicting 30 days into future\n",
    "df1['Prediction'] = df1[['Adj. Close']].shift(-forecast_out) #  label column with data shifted 30 units up\n",
    "X = np.array(df1.drop(['Prediction'], 1))\n",
    "X = preprocessing.scale(X)\n",
    "X_forecast = X[-forecast_out:] # set X_forecast equal to last 30\n",
    "X = X[:-forecast_out] # remove last 30 from X\n",
    "y = np.array(df1['Prediction'])\n",
    "y = y[:-forecast_out]"
   ]
  },
  {
   "cell_type": "code",
   "execution_count": 25,
   "metadata": {},
   "outputs": [],
   "source": [
    "X_train, X_test, y_train, y_test = cross_validation.train_test_split(X, y, test_size = 0.2)\n"
   ]
  },
  {
   "cell_type": "code",
   "execution_count": 26,
   "metadata": {},
   "outputs": [
    {
     "name": "stdout",
     "output_type": "stream",
     "text": [
      "confidence:  0.9797537473709981\n"
     ]
    }
   ],
   "source": [
    "clf = LinearRegression()\n",
    "clf.fit(X_train,y_train)\n",
    "# Testing\n",
    "confidence = clf.score(X_test, y_test)\n",
    "print(\"confidence: \", confidence)"
   ]
  },
  {
   "cell_type": "code",
   "execution_count": 27,
   "metadata": {},
   "outputs": [
    {
     "name": "stdout",
     "output_type": "stream",
     "text": [
      "[176.93689216 183.35723187 183.80070902 181.1801622  179.81949366\n",
      " 181.73450864 182.82304348 187.15702476 188.80998506 185.31256296\n",
      " 182.14774872 179.74894048 180.43431426 184.24418618 183.61928655\n",
      " 187.58034386 186.19951727 189.11235585 188.63864161 185.73588206\n",
      " 188.06413712 187.73152925 188.97124948 176.34222961 171.89737904\n",
      " 173.14717829 168.61161649 163.06815206 163.74344682 155.81125317]\n"
     ]
    }
   ],
   "source": [
    "forecast_prediction1 = clf.predict(X_forecast)\n",
    "print(forecast_prediction1)"
   ]
  },
  {
   "cell_type": "code",
   "execution_count": 28,
   "metadata": {},
   "outputs": [],
   "source": [
    "df2 = df2[['Adj. Close']]\n",
    "forecast_out = int(30) # predicting 30 days into future\n",
    "df2['Prediction'] = df2[['Adj. Close']].shift(-forecast_out) #  label column with data shifted 30 units up\n",
    "X = np.array(df2.drop(['Prediction'], 1))\n",
    "X = preprocessing.scale(X)\n",
    "X_forecast = X[-forecast_out:] # set X_forecast equal to last 30\n",
    "X = X[:-forecast_out] # remove last 30 from X\n",
    "y = np.array(df2['Prediction'])\n",
    "y = y[:-forecast_out]"
   ]
  },
  {
   "cell_type": "code",
   "execution_count": 29,
   "metadata": {},
   "outputs": [],
   "source": [
    "X_train, X_test, y_train, y_test = cross_validation.train_test_split(X, y, test_size = 0.2)\n"
   ]
  },
  {
   "cell_type": "code",
   "execution_count": 30,
   "metadata": {},
   "outputs": [
    {
     "name": "stdout",
     "output_type": "stream",
     "text": [
      "confidence:  0.9790896298724954\n"
     ]
    }
   ],
   "source": [
    "clf = LinearRegression()\n",
    "clf.fit(X_train,y_train)\n",
    "# Testing\n",
    "confidence = clf.score(X_test, y_test)\n",
    "print(\"confidence: \", confidence)"
   ]
  },
  {
   "cell_type": "code",
   "execution_count": 31,
   "metadata": {},
   "outputs": [
    {
     "name": "stdout",
     "output_type": "stream",
     "text": [
      "[1073.01187707 1091.86382732 1110.81735058 1115.02247311 1123.23972944\n",
      " 1133.55954704 1129.64898623 1148.12511636 1163.98066288 1137.37869213\n",
      " 1123.57492037 1090.55353552 1103.48377942 1114.27083285 1120.50741553\n",
      " 1134.86983884 1149.43540816 1181.39027642 1186.56034252 1160.13104588\n",
      " 1169.25230199 1170.99935772 1154.55468775 1119.66435956 1115.32719213\n",
      " 1113.49887799 1072.00630429 1044.98788421 1072.96109057 1025.06941737]\n"
     ]
    }
   ],
   "source": [
    "forecast_prediction2 = clf.predict(X_forecast)\n",
    "print(forecast_prediction2)"
   ]
  },
  {
   "cell_type": "code",
   "execution_count": 32,
   "metadata": {},
   "outputs": [],
   "source": [
    "def pred(s,a,f,g):\n",
    "    output1=''\n",
    "    output7=''\n",
    "    output30=''\n",
    "    day=1\n",
    "    count=0\n",
    "    if a==1:\n",
    "        fp=forecast_prediction\n",
    "    elif f==1:\n",
    "        fp=forecast_prediction1\n",
    "    elif g==1:\n",
    "        fp=forecast_prediction2\n",
    "    for i in fp:\n",
    "        i=str(i)\n",
    "        if day==1:\n",
    "                output1=output1+\"\\n\"+\"Day\"+str(day)+\"--\"+i+\"\\n\"\n",
    "        if day<8:\n",
    "                output7=output7+\"\\n\"+\"Day\"+str(day)+\"--\"+i+\"\\n\"\n",
    "        if day<31:\n",
    "                output30=output30+\"\\t\"+\"Day\"+str(day)+\"--\"+i+\"\\t\"\n",
    "                count=count+1\n",
    "                if count==6:\n",
    "                    output30=output30+\"\\n\"\n",
    "                    count=0\n",
    "        day=day+1\n",
    "    if s==1:\n",
    "        return output1\n",
    "    elif s==7:\n",
    "        return output7\n",
    "    elif s==30:\n",
    "        return output30"
   ]
  },
  {
   "cell_type": "code",
   "execution_count": 51,
   "metadata": {},
   "outputs": [],
   "source": [
    "from tkinter import *\n",
    "import tkinter.messagebox\n",
    "from PIL import ImageTk,Image "
   ]
  },
  {
   "cell_type": "code",
   "execution_count": 52,
   "metadata": {},
   "outputs": [],
   "source": [
    "# top = tkinter.Tk()\n",
    "# # Code to add widgets will go here...\n",
    "# def helloCallBack():\n",
    "#     tkinter.messagebox.showinfo( \"Hello Python\", output)\n",
    "\n",
    "# topFrame= Frame(top)\n",
    "# bottomframe = Frame(top)\n",
    "\n",
    "\n",
    "# B = tkinter.Button(topFrame, text =\"Hello\", command = helloCallBack)\n",
    "# B1=tkinter.Button(topFrame, text =\"Hi\", command = helloCallBack)\n",
    "# one= Label(top, text='Label', fg=\"red\",bg=\"black\")\n",
    "# one.pack(fill=X)\n",
    "# topFrame.pack()\n",
    "# bottomframe.pack(side=BOTTOM)\n",
    "# B1.pack(side=LEFT)\n",
    "# B.pack(side=RIGHT,fill=Y)\n",
    "# top.mainloop()"
   ]
  },
  {
   "cell_type": "code",
   "execution_count": 84,
   "metadata": {},
   "outputs": [
    {
     "data": {
      "text/plain": [
       "''"
      ]
     },
     "execution_count": 84,
     "metadata": {},
     "output_type": "execute_result"
    }
   ],
   "source": [
    "root = Tk() \n",
    "root.title(\"Stock predictor\")\n",
    "root.geometry('600x600')"
   ]
  },
  {
   "cell_type": "code",
   "execution_count": 85,
   "metadata": {},
   "outputs": [],
   "source": [
    "canvas = Canvas(root, width = 300, height = 300)  \n",
    "canvas.pack()       \n",
    "#img = PhotoImage(file=\"/home/vineet/SL/SLProject/amzn.png\")      \n",
    "img = ImageTk.PhotoImage(Image.open(\"tree.png\"))  \n",
    "canvas.create_image(20, 20, anchor=NW, image=img)\n",
    "lbl=Label(root,text=\"Predict Stocks for : \").place(x=80,y=300)\n"
   ]
  },
  {
   "cell_type": "code",
   "execution_count": 86,
   "metadata": {},
   "outputs": [],
   "source": [
    "def clicked1():\n",
    "    window2=Tk()\n",
    "    window2.geometry('300x300')\n",
    "    lbl=Label(window2,text=\"Prediction for 1 - day :-\"+pred(1,var1.get(),var2.get(),var3.get())).place(x=50,y=50)\n",
    "    window2.mainloop()"
   ]
  },
  {
   "cell_type": "code",
   "execution_count": 87,
   "metadata": {},
   "outputs": [],
   "source": [
    "def clicked7():\n",
    "    window2=Tk()\n",
    "    window2.geometry('300x300')\n",
    "    lbl=Label(window2,text=\"Prediction for 1 - week :-\"+pred(7,var1.get(),var2.get(),var3.get())).place(x=50,y=50)\n",
    "    window2.mainloop()"
   ]
  },
  {
   "cell_type": "code",
   "execution_count": 88,
   "metadata": {},
   "outputs": [],
   "source": [
    "def clicked30():\n",
    "    window2=Tk()\n",
    "    window2.geometry('1500x300')\n",
    "    lbl=Label(window2,text=\"Prediction for 1 - month :-\"+pred(30,var1.get(),var2.get(),var3.get())).place(x=50,y=50)\n",
    "    window2.mainloop()"
   ]
  },
  {
   "cell_type": "code",
   "execution_count": 89,
   "metadata": {},
   "outputs": [],
   "source": [
    "def AmznGraph():\n",
    "    window2=tkinter.Toplevel()\n",
    "    window2.geometry('650x650')\n",
    "    lbl=Label(window2,text=\"Amazon Graph\").place(x=300,y=300)\n",
    "    canvas = Canvas(window2, width = 600, height = 600)\n",
    "    canvas.pack()\n",
    "    img1 = ImageTk.PhotoImage(Image.open(\"AmznGraph.png\"))  \n",
    "    canvas.create_image(20, 20, anchor=NW, image=img1)\n",
    "    window2.mainloop()"
   ]
  },
  {
   "cell_type": "code",
   "execution_count": 90,
   "metadata": {},
   "outputs": [],
   "source": [
    "def GoogleGraph():\n",
    "    window2=tkinter.Toplevel()\n",
    "    window2.geometry('650x650')\n",
    "    lbl=Label(window2,text=\"Google Graph\").place(x=300,y=300)\n",
    "    canvas = Canvas(window2, width = 600, height = 600)\n",
    "    canvas.pack()\n",
    "    img1 = ImageTk.PhotoImage(Image.open(\"GoogleGraph.png\"))  \n",
    "    canvas.create_image(20, 20, anchor=NW, image=img1)\n",
    "    window2.mainloop()"
   ]
  },
  {
   "cell_type": "code",
   "execution_count": 91,
   "metadata": {},
   "outputs": [],
   "source": [
    "def FbGraph():\n",
    "    window2=tkinter.Toplevel()\n",
    "    window2.geometry('650x650')\n",
    "    lbl=Label(window2,text=\"FB graph\").place(x=300,y=300)\n",
    "    canvas = Canvas(window2, width = 600, height = 600)\n",
    "    canvas.pack()\n",
    "    img1 = ImageTk.PhotoImage(Image.open(\"FbGraph.png\"))  \n",
    "    canvas.create_image(20, 20, anchor=NW, image=img1)\n",
    "    window2.mainloop()"
   ]
  },
  {
   "cell_type": "code",
   "execution_count": 92,
   "metadata": {},
   "outputs": [],
   "source": [
    "\n",
    "def CompGraph():\n",
    "    window2=tkinter.Toplevel()\n",
    "    window2.geometry('650x650')\n",
    "    lbl=Label(window2,text=\"Stock Graph\").place(x=300,y=300)\n",
    "    canvas = Canvas(window2, width = 600, height = 600)\n",
    "    canvas.pack()\n",
    "    img1 = ImageTk.PhotoImage(Image.open(\"stock.png\"))  \n",
    "    canvas.create_image(20, 20, anchor=NW, image=img1)\n",
    "    window2.mainloop()"
   ]
  },
  {
   "cell_type": "code",
   "execution_count": 93,
   "metadata": {},
   "outputs": [],
   "source": [
    "var1= IntVar()\n",
    "var2= IntVar()\n",
    "var3= IntVar()\n",
    "btn1 = Button(root, text=\"1-Day\", command=clicked1).place(x=30,y=320)\n",
    "btn2 = Button(root, text=\"1-Week\", command=clicked7).place(x=150,y=320)\n",
    "btn3 = Button(root, text=\"1-Month\", command=clicked30).place(x=270,y=320)\n",
    "btn4 = Button(root, text=\"Amazon graph\", command=AmznGraph).place(x=30,y=420)\n",
    "btn5 = Button(root, text=\"Google graph\", command=GoogleGraph).place(x=150,y=420)\n",
    "btn6 = Button(root, text=\"Facebook graph\", command=FbGraph).place(x=270,y=420)\n",
    "chk1 = Checkbutton(root, text=\"Amazon\", variable=var1).place(x=30,y=380)\n",
    "chk2 = Checkbutton(root, text=\"Facebook\", variable=var2).place(x=150,y=380)\n",
    "chk3 = Checkbutton(root, text=\"Google\", variable=var3).place(x=270,y=380)\n",
    "btn7 = Button(root, text=\"Comparision between the 3 companies\", command=CompGraph).place(x=100,y=450)\n",
    "#btn.grid(column=1, row=0)\n",
    " \n",
    "root.mainloop()"
   ]
  },
  {
   "cell_type": "code",
   "execution_count": null,
   "metadata": {},
   "outputs": [],
   "source": []
  }
 ],
 "metadata": {
  "kernelspec": {
   "display_name": "Python 3",
   "language": "python",
   "name": "python3"
  },
  "language_info": {
   "codemirror_mode": {
    "name": "ipython",
    "version": 3
   },
   "file_extension": ".py",
   "mimetype": "text/x-python",
   "name": "python",
   "nbconvert_exporter": "python",
   "pygments_lexer": "ipython3",
   "version": "3.6.5"
  }
 },
 "nbformat": 4,
 "nbformat_minor": 2
}
